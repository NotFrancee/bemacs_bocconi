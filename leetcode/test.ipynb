{
 "cells": [
  {
   "cell_type": "code",
   "execution_count": 12,
   "metadata": {},
   "outputs": [],
   "source": [
    "import pandas as pd\n",
    "import numpy as np\n",
    "import requests\n"
   ]
  },
  {
   "cell_type": "code",
   "execution_count": 2,
   "metadata": {},
   "outputs": [],
   "source": [
    "res = requests.get(\n",
    "    \"https://clob.polymarket.com/prices-history?interval=all&market=42640553165092037846347881679624913552188313575661128788898865694578369787637&fidelity=60\"\n",
    ")\n",
    "content = res.json()\n",
    "hist = content[\"history\"]\n",
    "data = pd.DataFrame.from_dict(hist)"
   ]
  },
  {
   "cell_type": "code",
   "execution_count": 6,
   "metadata": {},
   "outputs": [
    {
     "name": "stdout",
     "output_type": "stream",
     "text": [
      "<class 'pandas.core.frame.DataFrame'>\n",
      "RangeIndex: 2109 entries, 0 to 2108\n",
      "Data columns (total 2 columns):\n",
      " #   Column  Non-Null Count  Dtype  \n",
      "---  ------  --------------  -----  \n",
      " 0   t       2109 non-null   int64  \n",
      " 1   p       2109 non-null   float64\n",
      "dtypes: float64(1), int64(1)\n",
      "memory usage: 33.1 KB\n"
     ]
    }
   ],
   "source": [
    "data.info()"
   ]
  },
  {
   "cell_type": "code",
   "execution_count": 9,
   "metadata": {},
   "outputs": [
    {
     "name": "stdout",
     "output_type": "stream",
     "text": [
      "                              t      p\n",
      "t                                     \n",
      "2023-07-26 19:00:02  1690398002  0.205\n",
      "2023-07-26 20:00:02  1690401602  0.215\n",
      "2023-07-26 21:00:03  1690405203  0.210\n",
      "2023-07-26 22:00:02  1690408802  0.210\n",
      "2023-07-26 23:00:03  1690412403  0.205\n",
      "...                         ...    ...\n",
      "2023-10-22 11:00:02  1697972402  0.810\n",
      "2023-10-22 12:00:02  1697976002  0.810\n",
      "2023-10-22 13:00:02  1697979602  0.810\n",
      "2023-10-22 14:00:02  1697983202  0.810\n",
      "2023-10-22 15:00:03  1697986803  0.810\n",
      "\n",
      "[2109 rows x 2 columns]\n"
     ]
    },
    {
     "data": {
      "text/html": [
       "<div>\n",
       "<style scoped>\n",
       "    .dataframe tbody tr th:only-of-type {\n",
       "        vertical-align: middle;\n",
       "    }\n",
       "\n",
       "    .dataframe tbody tr th {\n",
       "        vertical-align: top;\n",
       "    }\n",
       "\n",
       "    .dataframe thead th {\n",
       "        text-align: right;\n",
       "    }\n",
       "</style>\n",
       "<table border=\"1\" class=\"dataframe\">\n",
       "  <thead>\n",
       "    <tr style=\"text-align: right;\">\n",
       "      <th></th>\n",
       "      <th>p</th>\n",
       "    </tr>\n",
       "    <tr>\n",
       "      <th>t</th>\n",
       "      <th></th>\n",
       "    </tr>\n",
       "  </thead>\n",
       "  <tbody>\n",
       "    <tr>\n",
       "      <th>2023-07-26 19:00:02</th>\n",
       "      <td>0.205</td>\n",
       "    </tr>\n",
       "    <tr>\n",
       "      <th>2023-07-26 20:00:02</th>\n",
       "      <td>0.215</td>\n",
       "    </tr>\n",
       "    <tr>\n",
       "      <th>2023-07-26 21:00:03</th>\n",
       "      <td>0.210</td>\n",
       "    </tr>\n",
       "    <tr>\n",
       "      <th>2023-07-26 22:00:02</th>\n",
       "      <td>0.210</td>\n",
       "    </tr>\n",
       "    <tr>\n",
       "      <th>2023-07-26 23:00:03</th>\n",
       "      <td>0.205</td>\n",
       "    </tr>\n",
       "    <tr>\n",
       "      <th>...</th>\n",
       "      <td>...</td>\n",
       "    </tr>\n",
       "    <tr>\n",
       "      <th>2023-10-22 11:00:02</th>\n",
       "      <td>0.810</td>\n",
       "    </tr>\n",
       "    <tr>\n",
       "      <th>2023-10-22 12:00:02</th>\n",
       "      <td>0.810</td>\n",
       "    </tr>\n",
       "    <tr>\n",
       "      <th>2023-10-22 13:00:02</th>\n",
       "      <td>0.810</td>\n",
       "    </tr>\n",
       "    <tr>\n",
       "      <th>2023-10-22 14:00:02</th>\n",
       "      <td>0.810</td>\n",
       "    </tr>\n",
       "    <tr>\n",
       "      <th>2023-10-22 15:00:03</th>\n",
       "      <td>0.810</td>\n",
       "    </tr>\n",
       "  </tbody>\n",
       "</table>\n",
       "<p>2109 rows × 1 columns</p>\n",
       "</div>"
      ],
      "text/plain": [
       "                         p\n",
       "t                         \n",
       "2023-07-26 19:00:02  0.205\n",
       "2023-07-26 20:00:02  0.215\n",
       "2023-07-26 21:00:03  0.210\n",
       "2023-07-26 22:00:02  0.210\n",
       "2023-07-26 23:00:03  0.205\n",
       "...                    ...\n",
       "2023-10-22 11:00:02  0.810\n",
       "2023-10-22 12:00:02  0.810\n",
       "2023-10-22 13:00:02  0.810\n",
       "2023-10-22 14:00:02  0.810\n",
       "2023-10-22 15:00:03  0.810\n",
       "\n",
       "[2109 rows x 1 columns]"
      ]
     },
     "execution_count": 9,
     "metadata": {},
     "output_type": "execute_result"
    }
   ],
   "source": [
    "print(data)\n",
    "data.index = pd.to_datetime(data['t'], unit='s')\n",
    "data.drop('t', axis=1)\n"
   ]
  },
  {
   "cell_type": "code",
   "execution_count": 14,
   "metadata": {},
   "outputs": [
    {
     "data": {
      "text/plain": [
       "0.01276206605734583"
      ]
     },
     "execution_count": 14,
     "metadata": {},
     "output_type": "execute_result"
    }
   ],
   "source": [
    "data['p'].std() / np.sqrt(252)"
   ]
  },
  {
   "cell_type": "code",
   "execution_count": null,
   "metadata": {},
   "outputs": [],
   "source": []
  }
 ],
 "metadata": {
  "kernelspec": {
   "display_name": "base",
   "language": "python",
   "name": "python3"
  },
  "language_info": {
   "codemirror_mode": {
    "name": "ipython",
    "version": 3
   },
   "file_extension": ".py",
   "mimetype": "text/x-python",
   "name": "python",
   "nbconvert_exporter": "python",
   "pygments_lexer": "ipython3",
   "version": "3.11.5"
  }
 },
 "nbformat": 4,
 "nbformat_minor": 2
}
